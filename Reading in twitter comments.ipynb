{
 "cells": [
  {
   "cell_type": "code",
   "execution_count": 3,
   "metadata": {},
   "outputs": [],
   "source": [
    "import tweepy, pandas as pd, numpy as np, json, re, seaborn as sns\n",
    "from textblob import TextBlob\n",
    "from TwitterAPI import TwitterAPI"
   ]
  },
  {
   "cell_type": "code",
   "execution_count": 2,
   "metadata": {},
   "outputs": [],
   "source": [
    "\n",
    "consumer_key = 'sW0oAfGFGSWUHbOGv5JhvpCiW'\n",
    "consumer_secret = 'V6lRbVNA7WKhOu71Io5QyHAr0x0GazuHDNDkykaAeuJjxbNSea'\n",
    "access_token = '250349566-Q5lBnCb2TQwUGrroNVQgJ2HHkkZPxgyBJQWZYLWM'\n",
    "access_token_secret = 'NjoCJw62fcxh2t8JFQmA6jxuwLLE6904o6ETOgq02MlzY'\n",
    "\n",
    "auth = tweepy.OAuthHandler(consumer_key, consumer_secret)\n",
    "auth.set_access_token(access_token, access_token_secret)\n",
    "api = tweepy.API(auth)"
   ]
  },
  {
   "cell_type": "code",
   "execution_count": 96,
   "metadata": {},
   "outputs": [],
   "source": [
    "users = [\"lisamurkowski\"]\n",
    "tweetdata = dict()\n",
    "tweetdfs = dict()\n",
    "for x in users:\n",
    "    tweetdata[x]= api.user_timeline(screen_name=x, count=200)\n",
    "#next step: limit so we only go back one week\n",
    "    for tweet in tweetdata[x]:\n",
    "        if tweetdata[x][tweet].created_at < #today's date minus 7 days:\n",
    "            tweetdata[x]=tweetdata[x][-tweet]\n",
    "            \n",
    "        "
   ]
  },
  {
   "cell_type": "code",
   "execution_count": 126,
   "metadata": {},
   "outputs": [],
   "source": [
    "for tweet in tweetdata[\"lisamurkowski\"]:\n",
    "    tomatch = tweetdata[\"lisamurkowski\"][tweet].id_str\n",
    "    totweets = api.search(q= \"to@lisamurkowski\", since_id = tomatch, count=100, tweet_mode=\"extended\")\n",
    "#next step: add so it keeps looking for tweets further back\n",
    "#consider starting with the date close to the tweet, and then continuing to extend it\n",
    "comments = list()\n",
    "for x in range(0,len(totweets)):\n",
    "    if totweets[x].in_reply_to_status_id_str==tomatch:\n",
    "        comments.append(totweets[x].full_text)\n",
    "thistweetframe = dict()\n",
    "thistweetframe['text'] = tweetdata[\"lisamurkowski\"][0].text\n",
    "thistweetframe['comments'] = comments"
   ]
  },
  {
   "cell_type": "code",
   "execution_count": 127,
   "metadata": {},
   "outputs": [
    {
     "data": {
      "text/plain": [
       "{'text': 'https://t.co/hbfUwMM2JS',\n",
       " 'comments': [\"@lisamurkowski Your opinion is of no value to any good Republican.  You don't even support him with a border that's in total chaos.  Have you no shame.\",\n",
       "  '@lisamurkowski And to ask “Why” Russia wanted #MangoMussolini to win.',\n",
       "  '@lisamurkowski Why did you leave out the failure to exonerate part of the Barr Letter? Why is @senatemajldr blocking transparency? Most importantly, if no one in the Trump world conspired, why did they all lie? 👀 Things were in plain sight. Barr has zero credibility.',\n",
       "  '@lisamurkowski Thank you! We NEED you to hold the line, Senator, because they are very, very close to getting away with this. And that invites Russia and China to screw with our elections from here on out. This is important!',\n",
       "  '@lisamurkowski It’s time to hold democrats responsible for the coup based on fraudulent data! Anyone in gov who does not support this action is complicit! Treason',\n",
       "  '@lisamurkowski Yes let’s focus on the Russians that have used the discord and the complicit media @CNN @MSNBC and many others along with so many of the top people in government to split the American People.',\n",
       "  \"@lisamurkowski NO, you focus NOW must be to hold Hillary Clinton and Obama accountable for their involvement in the what started all this in the first place.  Anything less, and it's still democracts hiding the truth and scating around the LAW.\",\n",
       "  '@lisamurkowski You are a disappointment to the GOP. We have a challenger for you and you will be primaried!']}"
      ]
     },
     "execution_count": 127,
     "metadata": {},
     "output_type": "execute_result"
    }
   ],
   "source": []
  },
  {
   "cell_type": "code",
   "execution_count": 124,
   "metadata": {},
   "outputs": [
    {
     "data": {
      "text/plain": [
       "[\"@lisamurkowski Your opinion is of no value to any good Republican.  You don't even support him with a border that's in total chaos.  Have you no shame.\",\n",
       " '@lisamurkowski And to ask “Why” Russia wanted #MangoMussolini to win.',\n",
       " '@lisamurkowski Why did you leave out the failure to exonerate part of the Barr Letter? Why is @senatemajldr blocking transparency? Most importantly, if no one in the Trump world conspired, why did they all lie? 👀 Things were in plain sight. Barr has zero credibility.',\n",
       " '@lisamurkowski Thank you! We NEED you to hold the line, Senator, because they are very, very close to getting away with this. And that invites Russia and China to screw with our elections from here on out. This is important!',\n",
       " '@lisamurkowski It’s time to hold democrats responsible for the coup based on fraudulent data! Anyone in gov who does not support this action is complicit! Treason',\n",
       " '@lisamurkowski Yes let’s focus on the Russians that have used the discord and the complicit media @CNN @MSNBC and many others along with so many of the top people in government to split the American People.',\n",
       " \"@lisamurkowski NO, you focus NOW must be to hold Hillary Clinton and Obama accountable for their involvement in the what started all this in the first place.  Anything less, and it's still democracts hiding the truth and scating around the LAW.\",\n",
       " '@lisamurkowski You are a disappointment to the GOP. We have a challenger for you and you will be primaried!']"
      ]
     },
     "execution_count": 124,
     "metadata": {},
     "output_type": "execute_result"
    }
   ],
   "source": []
  },
  {
   "cell_type": "code",
   "execution_count": 98,
   "metadata": {},
   "outputs": [],
   "source": [
    "test = api.search(q= \"to@lisamurkowski\", since_id = tomatch, count=100 )"
   ]
  },
  {
   "cell_type": "code",
   "execution_count": 100,
   "metadata": {},
   "outputs": [
    {
     "ename": "AttributeError",
     "evalue": "'Status' object has no attribute 'in_reply_to'",
     "output_type": "error",
     "traceback": [
      "\u001b[1;31m---------------------------------------------------------------------------\u001b[0m",
      "\u001b[1;31mAttributeError\u001b[0m                            Traceback (most recent call last)",
      "\u001b[1;32m<ipython-input-100-0b0414e06268>\u001b[0m in \u001b[0;36m<module>\u001b[1;34m\u001b[0m\n\u001b[0;32m      1\u001b[0m \u001b[0mcorrecttweets\u001b[0m \u001b[1;33m=\u001b[0m \u001b[0mdict\u001b[0m\u001b[1;33m(\u001b[0m\u001b[1;33m)\u001b[0m\u001b[1;33m\u001b[0m\u001b[1;33m\u001b[0m\u001b[0m\n\u001b[0;32m      2\u001b[0m \u001b[1;32mfor\u001b[0m \u001b[0mx\u001b[0m \u001b[1;32min\u001b[0m \u001b[0mrange\u001b[0m\u001b[1;33m(\u001b[0m\u001b[1;36m0\u001b[0m\u001b[1;33m,\u001b[0m\u001b[0mlen\u001b[0m\u001b[1;33m(\u001b[0m\u001b[0mtest\u001b[0m\u001b[1;33m)\u001b[0m\u001b[1;33m)\u001b[0m\u001b[1;33m:\u001b[0m\u001b[1;33m\u001b[0m\u001b[1;33m\u001b[0m\u001b[0m\n\u001b[1;32m----> 3\u001b[1;33m     \u001b[0mtest\u001b[0m\u001b[1;33m[\u001b[0m\u001b[0mx\u001b[0m\u001b[1;33m]\u001b[0m\u001b[1;33m.\u001b[0m\u001b[0min_reply_to\u001b[0m\u001b[1;33m\u001b[0m\u001b[1;33m\u001b[0m\u001b[0m\n\u001b[0m",
      "\u001b[1;31mAttributeError\u001b[0m: 'Status' object has no attribute 'in_reply_to'"
     ]
    }
   ],
   "source": [
    "correcttweets = dict()\n",
    "for x in range(0,len(test)):\n",
    "    test[x].in_reply_to"
   ]
  },
  {
   "cell_type": "code",
   "execution_count": 101,
   "metadata": {},
   "outputs": [
    {
     "name": "stdout",
     "output_type": "stream",
     "text": [
      "False\n",
      "True\n",
      "False\n",
      "False\n",
      "False\n",
      "True\n",
      "False\n",
      "True\n",
      "False\n",
      "True\n",
      "True\n",
      "False\n",
      "True\n",
      "False\n"
     ]
    }
   ],
   "source": [
    "for x in range(0,len(test)):\n",
    "    print(test[x].in_reply_to_status_id_str==\"1110316760996241408\")"
   ]
  },
  {
   "cell_type": "code",
   "execution_count": 84,
   "metadata": {},
   "outputs": [],
   "source": [
    "for x in range(0,len(test)-1):\n",
    "    print(test[0].id-test[x+1].id)\n",
    "    print(test[x].created_at)\n"
   ]
  },
  {
   "cell_type": "code",
   "execution_count": 16,
   "metadata": {},
   "outputs": [
    {
     "ename": "Exception",
     "evalue": "Endpoint \"tweets/search/tweets.json\" unsupported",
     "output_type": "error",
     "traceback": [
      "\u001b[1;31m---------------------------------------------------------------------------\u001b[0m",
      "\u001b[1;31mException\u001b[0m                                 Traceback (most recent call last)",
      "\u001b[1;32m<ipython-input-16-153737ec70fa>\u001b[0m in \u001b[0;36m<module>\u001b[1;34m\u001b[0m\n\u001b[0;32m      1\u001b[0m \u001b[0mmyapi\u001b[0m \u001b[1;33m=\u001b[0m \u001b[0mTwitterAPI\u001b[0m\u001b[1;33m(\u001b[0m\u001b[0mconsumer_key\u001b[0m\u001b[1;33m,\u001b[0m \u001b[0mconsumer_secret\u001b[0m\u001b[1;33m,\u001b[0m \u001b[0maccess_token\u001b[0m\u001b[1;33m,\u001b[0m \u001b[0maccess_token_secret\u001b[0m\u001b[1;33m)\u001b[0m\u001b[1;33m\u001b[0m\u001b[1;33m\u001b[0m\u001b[0m\n\u001b[1;32m----> 2\u001b[1;33m \u001b[0mmyapi\u001b[0m\u001b[1;33m.\u001b[0m\u001b[0mrequest\u001b[0m\u001b[1;33m(\u001b[0m\u001b[1;34m'tweets/search/tweets.json'\u001b[0m\u001b[1;33m,\u001b[0m \u001b[1;33m{\u001b[0m\u001b[1;34m'query'\u001b[0m\u001b[1;33m:\u001b[0m\u001b[1;34m\"to@realDonaldTrump\"\u001b[0m\u001b[1;33m,\u001b[0m\u001b[1;34m'fromDate'\u001b[0m\u001b[1;33m:\u001b[0m\u001b[1;34m\"20190324120259\"\u001b[0m\u001b[1;33m}\u001b[0m\u001b[1;33m)\u001b[0m\u001b[1;33m\u001b[0m\u001b[1;33m\u001b[0m\u001b[0m\n\u001b[0m",
      "\u001b[1;32m~\\AppData\\Local\\Continuum\\anaconda3\\lib\\site-packages\\TwitterAPI\\TwitterAPI.py\u001b[0m in \u001b[0;36mrequest\u001b[1;34m(self, resource, params, files, method_override)\u001b[0m\n\u001b[0;32m    122\u001b[0m         \u001b[0mresource\u001b[0m\u001b[1;33m,\u001b[0m \u001b[0mendpoint\u001b[0m \u001b[1;33m=\u001b[0m \u001b[0mself\u001b[0m\u001b[1;33m.\u001b[0m\u001b[0m_get_endpoint\u001b[0m\u001b[1;33m(\u001b[0m\u001b[0mresource\u001b[0m\u001b[1;33m)\u001b[0m\u001b[1;33m\u001b[0m\u001b[1;33m\u001b[0m\u001b[0m\n\u001b[0;32m    123\u001b[0m         \u001b[1;32mif\u001b[0m \u001b[0mendpoint\u001b[0m \u001b[1;32mnot\u001b[0m \u001b[1;32min\u001b[0m \u001b[0mENDPOINTS\u001b[0m\u001b[1;33m:\u001b[0m\u001b[1;33m\u001b[0m\u001b[1;33m\u001b[0m\u001b[0m\n\u001b[1;32m--> 124\u001b[1;33m             \u001b[1;32mraise\u001b[0m \u001b[0mException\u001b[0m\u001b[1;33m(\u001b[0m\u001b[1;34m'Endpoint \"%s\" unsupported'\u001b[0m \u001b[1;33m%\u001b[0m \u001b[0mendpoint\u001b[0m\u001b[1;33m)\u001b[0m\u001b[1;33m\u001b[0m\u001b[1;33m\u001b[0m\u001b[0m\n\u001b[0m\u001b[0;32m    125\u001b[0m         \u001b[1;32mwith\u001b[0m \u001b[0mrequests\u001b[0m\u001b[1;33m.\u001b[0m\u001b[0mSession\u001b[0m\u001b[1;33m(\u001b[0m\u001b[1;33m)\u001b[0m \u001b[1;32mas\u001b[0m \u001b[0msession\u001b[0m\u001b[1;33m:\u001b[0m\u001b[1;33m\u001b[0m\u001b[1;33m\u001b[0m\u001b[0m\n\u001b[0;32m    126\u001b[0m             \u001b[0msession\u001b[0m\u001b[1;33m.\u001b[0m\u001b[0mauth\u001b[0m \u001b[1;33m=\u001b[0m \u001b[0mself\u001b[0m\u001b[1;33m.\u001b[0m\u001b[0mauth\u001b[0m\u001b[1;33m\u001b[0m\u001b[1;33m\u001b[0m\u001b[0m\n",
      "\u001b[1;31mException\u001b[0m: Endpoint \"tweets/search/tweets.json\" unsupported"
     ]
    }
   ],
   "source": [
    "myapi = TwitterAPI(consumer_key, consumer_secret, access_token, access_token_secret)\n",
    "myapi.request('tweets/search/tweets.json', {'query':\"to@realDonaldTrump\",'fromDate':\"20190324120259\"})"
   ]
  },
  {
   "cell_type": "code",
   "execution_count": 12,
   "metadata": {},
   "outputs": [
    {
     "ename": "NameError",
     "evalue": "name 'datetime' is not defined",
     "output_type": "error",
     "traceback": [
      "\u001b[1;31m---------------------------------------------------------------------------\u001b[0m",
      "\u001b[1;31mNameError\u001b[0m                                 Traceback (most recent call last)",
      "\u001b[1;32m<ipython-input-12-e6df680800bb>\u001b[0m in \u001b[0;36m<module>\u001b[1;34m\u001b[0m\n\u001b[1;32m----> 1\u001b[1;33m \u001b[0mdatetime\u001b[0m\u001b[1;33m.\u001b[0m\u001b[0mdatetime\u001b[0m\u001b[1;33m(\u001b[0m\u001b[1;36m2019\u001b[0m\u001b[1;33m,\u001b[0m \u001b[1;36m3\u001b[0m\u001b[1;33m,\u001b[0m \u001b[1;36m24\u001b[0m\u001b[1;33m,\u001b[0m \u001b[1;36m12\u001b[0m\u001b[1;33m,\u001b[0m \u001b[1;36m2\u001b[0m\u001b[1;33m,\u001b[0m \u001b[1;36m59\u001b[0m\u001b[1;33m)\u001b[0m\u001b[1;33m\u001b[0m\u001b[1;33m\u001b[0m\u001b[0m\n\u001b[0m",
      "\u001b[1;31mNameError\u001b[0m: name 'datetime' is not defined"
     ]
    }
   ],
   "source": [
    "datetime.datetime(2019, 3, 24, 12, 2, 59)"
   ]
  },
  {
   "cell_type": "code",
   "execution_count": 45,
   "metadata": {},
   "outputs": [
    {
     "name": "stdout",
     "output_type": "stream",
     "text": [
      "Help on module tweepy.binder in tweepy:\n",
      "\n",
      "NAME\n",
      "    tweepy.binder\n",
      "\n",
      "DESCRIPTION\n",
      "    # Tweepy\n",
      "    # Copyright 2009-2010 Joshua Roesslein\n",
      "    # See LICENSE for details.\n",
      "\n",
      "FUNCTIONS\n",
      "    bind_api(**config)\n",
      "\n",
      "DATA\n",
      "    __warningregistry__ = {'version': 936}\n",
      "    log = <Logger tweepy.binder (WARNING)>\n",
      "    print_function = _Feature((2, 6, 0, 'alpha', 2), (3, 0, 0, 'alpha', 0)...\n",
      "    re_path_template = re.compile('{\\\\w+}')\n",
      "\n",
      "FILE\n",
      "    c:\\users\\jmoore42\\appdata\\local\\continuum\\anaconda3\\lib\\site-packages\\tweepy\\binder.py\n",
      "\n",
      "\n"
     ]
    }
   ],
   "source": [
    "help(tweepy.binder)"
   ]
  }
 ],
 "metadata": {
  "kernelspec": {
   "display_name": "Python 3",
   "language": "python",
   "name": "python3"
  },
  "language_info": {
   "codemirror_mode": {
    "name": "ipython",
    "version": 3
   },
   "file_extension": ".py",
   "mimetype": "text/x-python",
   "name": "python",
   "nbconvert_exporter": "python",
   "pygments_lexer": "ipython3",
   "version": "3.7.1"
  }
 },
 "nbformat": 4,
 "nbformat_minor": 2
}
